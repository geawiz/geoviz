{
 "cells": [
  {
   "cell_type": "code",
   "execution_count": null,
   "metadata": {},
   "outputs": [],
   "source": [
    "# Install dependencies when running in Google Colab\n",
    "!pip install rasterio"
   ]
  },
  {
   "cell_type": "code",
   "execution_count": null,
   "metadata": {},
   "outputs": [],
   "source": [
    "import rasterio\n",
    "from rasterio.merge import merge\n",
    "import requests\n",
    "import os\n",
    "import tempfile\n",
    "from osgeo import gdal"
   ]
  },
  {
   "cell_type": "markdown",
   "metadata": {},
   "source": [
    "## Download Raster Data\n",
    "To illustrate the visualization of raster, we download [SWISSIMAGE](https://www.swisstopo.admin.ch/en/orthoimage-swissimage-10) data, which is a composition of color aerial photographs over Switzerland with a ground resolution of 10 cm. The data is provided by the Swiss Federal Office of Topography - swisstopo.\n",
    "\n",
    "[SWISSIMAGE](https://www.swisstopo.admin.ch/en/orthoimage-swissimage-10) stores the orthophotos split into a mosaic of individual files. Here, we download the images covering Zurich and store them in a single GeoTIFF in the local directory `./data/`. The individual download links are listed in [orthophoto_urls.txt](orthophoto_urls.txt)."
   ]
  },
  {
   "cell_type": "code",
   "execution_count": null,
   "metadata": {},
   "outputs": [],
   "source": [
    "url_file_path = \"orthophoto_urls.txt\"\n",
    "\n",
    "output_filename = \"merged_orthophotos.tif\"\n",
    "\n",
    "data_dir = \"./data/\"\n",
    "os.makedirs(data_dir, exist_ok=True)\n",
    "\n",
    "if not os.path.exists(url_file_path):\n",
    "    github_url = \"https://github.com/geawiz/geoviz/blob/jw/cog_extend/3_Cloud-Optimized-GeoTIFF/orthophoto_urls.txt\"\n",
    "    response = requests.get(github_url)\n",
    "\n",
    "    with open(url_file_path, 'w') as file:\n",
    "        file.write(response.text)\n",
    "  \n",
    "\n",
    "with open(url_file_path, 'r') as file:\n",
    "    lines = file.readlines()\n",
    "    download_urls = [line.strip() for line in lines if line.strip()]\n",
    "\n",
    "src_files_to_mosaic = []\n",
    "temp_files = []\n",
    "\n",
    "try:\n",
    "    for url in download_urls:\n",
    "        print(f\"Downloading GeoTIFF from: {url}\")\n",
    "        response = requests.get(url)\n",
    "        response.raise_for_status()  # Raise an error for bad status codes\n",
    "        geotiff_bytes = response.content\n",
    "\n",
    "        # Create a temporary file\n",
    "        temp = tempfile.NamedTemporaryFile(delete=False, suffix='.tif')\n",
    "        temp.write(geotiff_bytes)\n",
    "        temp.close()\n",
    "        temp_files.append(temp.name)\n",
    "        \n",
    "        # Open the GeoTIFF with Rasterio\n",
    "        src = rasterio.open(temp.name)\n",
    "        src_files_to_mosaic.append(src)\n",
    "    \n",
    "    # Merge individual GeoTIFFs\n",
    "    print(\"Merging GeoTIFFs\")\n",
    "    mosaic, out_trans = merge(src_files_to_mosaic)\n",
    "    \n",
    "    # Update metadata\n",
    "    out_meta = src_files_to_mosaic[0].meta.copy()\n",
    "    out_meta.update({\n",
    "        \"driver\": \"GTiff\",\n",
    "        \"height\": mosaic.shape[1],\n",
    "        \"width\": mosaic.shape[2],\n",
    "        \"transform\": out_trans\n",
    "    })\n",
    "\n",
    "    output_path = os.path.join(data_dir, output_filename)\n",
    "    print(f\"Writing merged GeoTIFF to: {output_path}\")\n",
    "    with rasterio.open(output_path, \"w\", **out_meta) as dest:\n",
    "        dest.write(mosaic)\n",
    "    \n",
    "    print(\"Merging completed successfully!\")\n",
    "\n",
    "finally:\n",
    "    # Cleanup: Close datasets and remove temporary files\n",
    "    for src in src_files_to_mosaic:\n",
    "        src.close()\n",
    "    for temp_path in temp_files:\n",
    "        os.remove(temp_path)\n",
    "    print(\"Temporary files cleaned up.\")"
   ]
  },
  {
   "cell_type": "code",
   "execution_count": null,
   "metadata": {},
   "outputs": [],
   "source": [
    "cog_filename = \"orthophoto_cog.tif\"\n",
    "\n",
    "target_crs_proj = 'EPSG:3857'\n",
    "\n",
    "creation_options = [\n",
    "    'BLOCKSIZE=512',\n",
    "    'COMPRESS=JPEG2000',\n",
    "    'NUM_THREADS=ALL_CPUS',\n",
    "    'BIGTIFF=IF_SAFER',\n",
    "    'OVERVIEWS=IGNORE_EXISTING'\n",
    "]\n",
    "\n",
    "cog_output_path = os.path.join(data_dir, cog_filename)\n",
    "\n",
    "src_ds = gdal.Open(output_path)\n",
    "\n",
    "print(\"Reprojecting and converting to COG...\")\n",
    "dst_ds = gdal.Warp(\n",
    "    dst_cog_path,\n",
    "    src_ds,\n",
    "    dstSRS=target_crs_proj,\n",
    "    format='COG',\n",
    "    creationOptions=creation_options,\n",
    "    multithread=True,\n",
    ")\n",
    "\n",
    " # Flush data to disk\n",
    "dst_ds = None\n",
    "src_ds = None"
   ]
  },
  {
   "cell_type": "code",
   "execution_count": null,
   "metadata": {},
   "outputs": [],
   "source": []
  }
 ],
 "metadata": {
  "kernelspec": {
   "display_name": "geo_rasterio",
   "language": "python",
   "name": "python3"
  },
  "language_info": {
   "codemirror_mode": {
    "name": "ipython",
    "version": 3
   },
   "file_extension": ".py",
   "mimetype": "text/x-python",
   "name": "python",
   "nbconvert_exporter": "python",
   "pygments_lexer": "ipython3",
   "version": "3.11.11"
  }
 },
 "nbformat": 4,
 "nbformat_minor": 2
}
