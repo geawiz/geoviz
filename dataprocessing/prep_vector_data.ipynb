{
 "cells": [
  {
   "cell_type": "code",
   "execution_count": null,
   "metadata": {},
   "outputs": [],
   "source": [
    "import geopandas as gpd\n",
    "gpd.options.io_engine = \"pyogrio\"\n",
    "import requests\n",
    "import os\n",
    "import zipfile"
   ]
  },
  {
   "cell_type": "code",
   "execution_count": null,
   "metadata": {},
   "outputs": [
    {
     "name": "stdout",
     "output_type": "stream",
     "text": [
      "Downloading file from https://data.geo.admin.ch/ch.swisstopo-vd.ortschaftenverzeichnis_plz/ortschaftenverzeichnis_plz/ortschaftenverzeichnis_plz_2056.shp.zip ...\n",
      "File saved to ./data/swiss_zip_codes.zip\n",
      "Extracting contents into ./data/ ...\n",
      "Extraction complete!\n"
     ]
    }
   ],
   "source": [
    "# Download the ZIP file from the URL\n",
    "url = \"https://data.geo.admin.ch/ch.swisstopo-vd.ortschaftenverzeichnis_plz/ortschaftenverzeichnis_plz/ortschaftenverzeichnis_plz_2056.shp.zip\"\n",
    "data_dir = \"./data/\"\n",
    "zip_name = \"swiss_zip_codes.zip\"\"\n",
    "zip_path = data_dir+zip_name\n",
    "\n",
    "os.makedirs(os.path.dirname(zip_path), exist_ok=True)\n",
    "response = requests.get(url, stream=True)\n",
    "\n",
    "with open(zip_path, \"wb\") as f:\n",
    "    f.write(response.content)\n",
    "\n",
    "# Unzip to a specific directory\n",
    "extract_dir = \"./data/\"\n",
    "with zipfile.ZipFile(zip_path, 'r') as zip_ref:\n",
    "    zip_ref.extractall(extract_dir)"
   ]
  },
  {
   "cell_type": "code",
   "execution_count": 36,
   "metadata": {},
   "outputs": [],
   "source": [
    "gdf_plz = gpd.read_file(\"./data/AMTOVZ_SHP_LV95/AMTOVZ_ZIP.shp\")\n",
    "gdf_plz = gdf_plz[[\"ZIP4\", \"geometry\"]].to_crs(\"EPSG:4326\")\n",
    "gdf_plz.to_file(\"data/swiss_zip.geojson\", driver=\"GeoJSON\") "
   ]
  },
  {
   "cell_type": "code",
   "execution_count": null,
   "metadata": {},
   "outputs": [
    {
     "name": "stdout",
     "output_type": "stream",
     "text": [
      "For layer 0, using name \"swiss_zip\"\n",
      "4073 features, 11166412 bytes of geometry and attributes, 19170 bytes of string pool, 0 bytes of vertices, 0 bytes of nodes\n",
      "  99.9%  15/17204/11551  \n",
      "  100.0%  15/17254/11452  \r"
     ]
    }
   ],
   "source": [
    "!tippecanoe \\\n",
    "    -z15 \\\n",
    "    -o data/swiss_zip.pmtiles \\\n",
    "    --coalesce-densest-as-needed \\\n",
    "    --extend-zooms-if-still-dropping \\\n",
    "    --detect-shared-borders \\\n",
    "    data/swiss_zip.geojson"
   ]
  },
  {
   "cell_type": "code",
   "execution_count": null,
   "metadata": {},
   "outputs": [],
   "source": []
  }
 ],
 "metadata": {
  "kernelspec": {
   "display_name": "geo_env_forge_9",
   "language": "python",
   "name": "python3"
  },
  "language_info": {
   "codemirror_mode": {
    "name": "ipython",
    "version": 3
   },
   "file_extension": ".py",
   "mimetype": "text/x-python",
   "name": "python",
   "nbconvert_exporter": "python",
   "pygments_lexer": "ipython3",
   "version": "3.9.7"
  }
 },
 "nbformat": 4,
 "nbformat_minor": 2
}
