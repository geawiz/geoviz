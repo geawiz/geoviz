{
 "cells": [
  {
   "cell_type": "code",
   "execution_count": 6,
   "metadata": {},
   "outputs": [],
   "source": [
    "from shapely import force_2d\n",
    "import geopandas as gpd\n",
    "gpd.options.io_engine = \"pyogrio\""
   ]
  },
  {
   "cell_type": "code",
   "execution_count": 15,
   "metadata": {},
   "outputs": [],
   "source": [
    "gdf_gemeinden = gpd.read_file(\"/Users/janwinkler/Code/geoviz/data/Vector/swissBOUNDARIES3D_1_5_TLM_HOHEITSGEBIET.shp\")\n",
    "gdf_gemeinden.geometry = gdf_gemeinden.geometry.apply(force_2d)\n",
    "gdf_gemeinden = gdf_gemeinden.drop(columns=['DATUM_AEND', 'DATUM_ERST', 'ERSTELL_J', 'ERSTELL_M',\n",
    "       'GRUND_AEND', 'HERKUNFT', 'HERKUNFT_J', 'HERKUNFT_M', 'REVISION_J',\n",
    "       'REVISION_M', 'REVISION_Q', 'OBJEKTART', 'BFS_NUMMER', 'BEZIRKSNUM',\n",
    "       'KANTONSNUM', 'GEM_FLAECH', 'SEE_FLAECH', 'ICC', 'SHN',\n",
    "       'EINWOHNERZ', 'HIST_NR',])\n",
    "gdf_gemeinden = gdf_gemeinden.to_crs(\"EPSG:4326\")\n"
   ]
  },
  {
   "cell_type": "code",
   "execution_count": 18,
   "metadata": {},
   "outputs": [],
   "source": [
    "gdf_gemeinden.to_file('../data/Vector/gdf_gemeinden.geojson', driver='GeoJSON')  "
   ]
  },
  {
   "cell_type": "code",
   "execution_count": null,
   "metadata": {},
   "outputs": [],
   "source": []
  }
 ],
 "metadata": {
  "kernelspec": {
   "display_name": "geo_env",
   "language": "python",
   "name": "python3"
  },
  "language_info": {
   "codemirror_mode": {
    "name": "ipython",
    "version": 3
   },
   "file_extension": ".py",
   "mimetype": "text/x-python",
   "name": "python",
   "nbconvert_exporter": "python",
   "pygments_lexer": "ipython3",
   "version": "3.9.7"
  }
 },
 "nbformat": 4,
 "nbformat_minor": 2
}
