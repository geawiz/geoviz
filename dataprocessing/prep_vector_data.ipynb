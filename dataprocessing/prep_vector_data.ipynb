{
 "cells": [
  {
   "cell_type": "code",
   "execution_count": 1,
   "metadata": {},
   "outputs": [],
   "source": [
    "import geopandas as gpd"
   ]
  },
  {
   "cell_type": "code",
   "execution_count": 2,
   "metadata": {},
   "outputs": [
    {
     "ename": "ImportError",
     "evalue": "The 'read_file' function requires the 'pyogrio' or 'fiona' package, but neither is installed or imports correctly.\nImporting fiona resulted in: dlopen(/Users/janwinkler/anaconda3/envs/geoenv/lib/python3.12/site-packages/fiona/_env.cpython-312-darwin.so, 0x0002): Library not loaded: @rpath/libpoppler.126.dylib\n  Referenced from: <32AB0042-17C3-304F-B97F-B43936E694E3> /Users/janwinkler/anaconda3/envs/geoenv/lib/libgdal.32.3.6.2.dylib\n  Reason: tried: '/Users/janwinkler/anaconda3/envs/geoenv/lib/libpoppler.126.dylib' (no such file), '/Users/janwinkler/anaconda3/envs/geoenv/lib/python3.12/site-packages/fiona/../../../libpoppler.126.dylib' (no such file), '/Users/janwinkler/anaconda3/envs/geoenv/lib/python3.12/site-packages/fiona/../../../libpoppler.126.dylib' (no such file), '/Users/janwinkler/anaconda3/envs/geoenv/bin/../lib/libpoppler.126.dylib' (no such file), '/Users/janwinkler/anaconda3/envs/geoenv/bin/../lib/libpoppler.126.dylib' (no such file), '/usr/local/lib/libpoppler.126.dylib' (no such file), '/usr/lib/libpoppler.126.dylib' (no such file, not in dyld cache)\nImporting pyogrio resulted in: No module named 'pyogrio'",
     "output_type": "error",
     "traceback": [
      "\u001b[0;31m---------------------------------------------------------------------------\u001b[0m",
      "\u001b[0;31mImportError\u001b[0m                               Traceback (most recent call last)",
      "Cell \u001b[0;32mIn[2], line 1\u001b[0m\n\u001b[0;32m----> 1\u001b[0m gdf_gemeinden \u001b[38;5;241m=\u001b[39m \u001b[43mgpd\u001b[49m\u001b[38;5;241;43m.\u001b[39;49m\u001b[43mread_file\u001b[49m\u001b[43m(\u001b[49m\u001b[38;5;124;43m\"\u001b[39;49m\u001b[38;5;124;43m/Users/janwinkler/Code/geoviz/data/Vector/swissBOUNDARIES3D_1_5_TLM_HOHEITSGEBIET.shp\u001b[39;49m\u001b[38;5;124;43m\"\u001b[39;49m\u001b[43m)\u001b[49m\n",
      "File \u001b[0;32m~/anaconda3/envs/geoenv/lib/python3.12/site-packages/geopandas/io/file.py:263\u001b[0m, in \u001b[0;36m_read_file\u001b[0;34m(filename, bbox, mask, rows, engine, **kwargs)\u001b[0m\n\u001b[1;32m    173\u001b[0m \u001b[38;5;28;01mdef\u001b[39;00m \u001b[38;5;21m_read_file\u001b[39m(filename, bbox\u001b[38;5;241m=\u001b[39m\u001b[38;5;28;01mNone\u001b[39;00m, mask\u001b[38;5;241m=\u001b[39m\u001b[38;5;28;01mNone\u001b[39;00m, rows\u001b[38;5;241m=\u001b[39m\u001b[38;5;28;01mNone\u001b[39;00m, engine\u001b[38;5;241m=\u001b[39m\u001b[38;5;28;01mNone\u001b[39;00m, \u001b[38;5;241m*\u001b[39m\u001b[38;5;241m*\u001b[39mkwargs):\n\u001b[1;32m    174\u001b[0m \u001b[38;5;250m    \u001b[39m\u001b[38;5;124;03m\"\"\"\u001b[39;00m\n\u001b[1;32m    175\u001b[0m \u001b[38;5;124;03m    Returns a GeoDataFrame from a file or URL.\u001b[39;00m\n\u001b[1;32m    176\u001b[0m \n\u001b[0;32m   (...)\u001b[0m\n\u001b[1;32m    261\u001b[0m \n\u001b[1;32m    262\u001b[0m \u001b[38;5;124;03m    \"\"\"\u001b[39;00m\n\u001b[0;32m--> 263\u001b[0m     engine \u001b[38;5;241m=\u001b[39m \u001b[43m_check_engine\u001b[49m\u001b[43m(\u001b[49m\u001b[43mengine\u001b[49m\u001b[43m,\u001b[49m\u001b[43m \u001b[49m\u001b[38;5;124;43m\"\u001b[39;49m\u001b[38;5;124;43m'\u001b[39;49m\u001b[38;5;124;43mread_file\u001b[39;49m\u001b[38;5;124;43m'\u001b[39;49m\u001b[38;5;124;43m function\u001b[39;49m\u001b[38;5;124;43m\"\u001b[39;49m\u001b[43m)\u001b[49m\n\u001b[1;32m    265\u001b[0m     filename \u001b[38;5;241m=\u001b[39m _expand_user(filename)\n\u001b[1;32m    267\u001b[0m     from_bytes \u001b[38;5;241m=\u001b[39m \u001b[38;5;28;01mFalse\u001b[39;00m\n",
      "File \u001b[0;32m~/anaconda3/envs/geoenv/lib/python3.12/site-packages/geopandas/io/file.py:122\u001b[0m, in \u001b[0;36m_check_engine\u001b[0;34m(engine, func)\u001b[0m\n\u001b[1;32m    120\u001b[0m     _check_pyogrio(func)\n\u001b[1;32m    121\u001b[0m \u001b[38;5;28;01melif\u001b[39;00m engine \u001b[38;5;129;01mis\u001b[39;00m \u001b[38;5;28;01mNone\u001b[39;00m:\n\u001b[0;32m--> 122\u001b[0m     \u001b[38;5;28;01mraise\u001b[39;00m \u001b[38;5;167;01mImportError\u001b[39;00m(\n\u001b[1;32m    123\u001b[0m         \u001b[38;5;124mf\u001b[39m\u001b[38;5;124m\"\u001b[39m\u001b[38;5;124mThe \u001b[39m\u001b[38;5;132;01m{\u001b[39;00mfunc\u001b[38;5;132;01m}\u001b[39;00m\u001b[38;5;124m requires the \u001b[39m\u001b[38;5;124m'\u001b[39m\u001b[38;5;124mpyogrio\u001b[39m\u001b[38;5;124m'\u001b[39m\u001b[38;5;124m or \u001b[39m\u001b[38;5;124m'\u001b[39m\u001b[38;5;124mfiona\u001b[39m\u001b[38;5;124m'\u001b[39m\u001b[38;5;124m package, \u001b[39m\u001b[38;5;124m\"\u001b[39m\n\u001b[1;32m    124\u001b[0m         \u001b[38;5;124m\"\u001b[39m\u001b[38;5;124mbut neither is installed or imports correctly.\u001b[39m\u001b[38;5;124m\"\u001b[39m\n\u001b[1;32m    125\u001b[0m         \u001b[38;5;124mf\u001b[39m\u001b[38;5;124m\"\u001b[39m\u001b[38;5;130;01m\\n\u001b[39;00m\u001b[38;5;124mImporting fiona resulted in: \u001b[39m\u001b[38;5;132;01m{\u001b[39;00mfiona_import_error\u001b[38;5;132;01m}\u001b[39;00m\u001b[38;5;124m\"\u001b[39m\n\u001b[1;32m    126\u001b[0m         \u001b[38;5;124mf\u001b[39m\u001b[38;5;124m\"\u001b[39m\u001b[38;5;130;01m\\n\u001b[39;00m\u001b[38;5;124mImporting pyogrio resulted in: \u001b[39m\u001b[38;5;132;01m{\u001b[39;00mpyogrio_import_error\u001b[38;5;132;01m}\u001b[39;00m\u001b[38;5;124m\"\u001b[39m\n\u001b[1;32m    127\u001b[0m     )\n\u001b[1;32m    129\u001b[0m \u001b[38;5;28;01mreturn\u001b[39;00m engine\n",
      "\u001b[0;31mImportError\u001b[0m: The 'read_file' function requires the 'pyogrio' or 'fiona' package, but neither is installed or imports correctly.\nImporting fiona resulted in: dlopen(/Users/janwinkler/anaconda3/envs/geoenv/lib/python3.12/site-packages/fiona/_env.cpython-312-darwin.so, 0x0002): Library not loaded: @rpath/libpoppler.126.dylib\n  Referenced from: <32AB0042-17C3-304F-B97F-B43936E694E3> /Users/janwinkler/anaconda3/envs/geoenv/lib/libgdal.32.3.6.2.dylib\n  Reason: tried: '/Users/janwinkler/anaconda3/envs/geoenv/lib/libpoppler.126.dylib' (no such file), '/Users/janwinkler/anaconda3/envs/geoenv/lib/python3.12/site-packages/fiona/../../../libpoppler.126.dylib' (no such file), '/Users/janwinkler/anaconda3/envs/geoenv/lib/python3.12/site-packages/fiona/../../../libpoppler.126.dylib' (no such file), '/Users/janwinkler/anaconda3/envs/geoenv/bin/../lib/libpoppler.126.dylib' (no such file), '/Users/janwinkler/anaconda3/envs/geoenv/bin/../lib/libpoppler.126.dylib' (no such file), '/usr/local/lib/libpoppler.126.dylib' (no such file), '/usr/lib/libpoppler.126.dylib' (no such file, not in dyld cache)\nImporting pyogrio resulted in: No module named 'pyogrio'"
     ]
    }
   ],
   "source": [
    "gdf_gemeinden = gpd.read_file(\"/Users/janwinkler/Code/geoviz/data/Vector/swissBOUNDARIES3D_1_5_TLM_HOHEITSGEBIET.shp\")"
   ]
  },
  {
   "cell_type": "code",
   "execution_count": null,
   "metadata": {},
   "outputs": [],
   "source": []
  }
 ],
 "metadata": {
  "kernelspec": {
   "display_name": "geoenv",
   "language": "python",
   "name": "python3"
  },
  "language_info": {
   "codemirror_mode": {
    "name": "ipython",
    "version": 3
   },
   "file_extension": ".py",
   "mimetype": "text/x-python",
   "name": "python",
   "nbconvert_exporter": "python",
   "pygments_lexer": "ipython3",
   "version": "3.12.8"
  }
 },
 "nbformat": 4,
 "nbformat_minor": 2
}
