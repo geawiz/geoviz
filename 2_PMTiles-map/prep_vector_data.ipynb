{
 "cells": [
  {
   "cell_type": "code",
   "execution_count": 44,
   "metadata": {},
   "outputs": [],
   "source": [
    "import geopandas as gpd\n",
    "gpd.options.io_engine = \"pyogrio\"\n",
    "import requests\n",
    "import os\n",
    "import zipfile\n",
    "import tempfile"
   ]
  },
  {
   "cell_type": "markdown",
   "metadata": {},
   "source": [
    "## Download Vector Data\n",
    "To illustrate the visualization of vector data, we download 4-digit postcodes from Switzerland and store them as ESRI Shapefile in the local directory `./data/`.\n",
    "\n",
    "More information about the data can be found on the [homepage](https://www.swisstopo.admin.ch/en/official-directory-of-towns-and-cities) of Federal Office of Topography swisstopo.\n",
    "\n"
   ]
  },
  {
   "cell_type": "code",
   "execution_count": 46,
   "metadata": {},
   "outputs": [],
   "source": [
    "# Download the ZIP file from the URL\n",
    "url = \"https://data.geo.admin.ch/ch.swisstopo-vd.ortschaftenverzeichnis_plz/ortschaftenverzeichnis_plz/ortschaftenverzeichnis_plz_2056.shp.zip\"\n",
    "data_dir = \"./data/\"\n",
    "\n",
    "os.makedirs(data_dir, exist_ok=True)\n",
    "\n",
    "with tempfile.TemporaryDirectory() as tmpdirname:\n",
    "    # Define the path for the temporary ZIP file\n",
    "    temp_zip_path = os.path.join(tmpdirname, \"temp.zip\")\n",
    "\n",
    "    # Download the ZIP file and write to the temporary file\n",
    "    with requests.get(url, stream=True) as response:\n",
    "        response.raise_for_status()  # Raise an error for bad status codes\n",
    "        with open(temp_zip_path, \"wb\") as f:\n",
    "            f.write(response.content)\n",
    "            \n",
    "    # Extract the ZIP file to the specified directory\n",
    "    with zipfile.ZipFile(temp_zip_path, 'r') as zip_ref:\n",
    "        zip_ref.extractall(data_dir)"
   ]
  },
  {
   "cell_type": "markdown",
   "metadata": {},
   "source": [
    "## Data Preparation\n",
    "We modify the data using [geopandas](https://geopandas.org/en/stable/). We reproject the data from the local Swiss coordinate sytsem [LV95](https://en.wikipedia.org/wiki/Swiss_coordinate_system) to the [World Geodetic System 84](https://en.wikipedia.org/wiki/World_Geodetic_System#WGS84) and store it as [GeoJson](https://en.wikipedia.org/wiki/GeoJSON). This format is chosen to later facilitate the creation of vector tiles."
   ]
  },
  {
   "cell_type": "code",
   "execution_count": 47,
   "metadata": {},
   "outputs": [],
   "source": [
    "gdf_plz = gpd.read_file(\"./data/AMTOVZ_SHP_LV95/AMTOVZ_ZIP.shp\")\n",
    "gdf_plz = gdf_plz[[\"ZIP4\", \"geometry\"]].to_crs(\"EPSG:4326\")\n",
    "gdf_plz.to_file(\"data/swiss_zip.geojson\", driver=\"GeoJSON\") "
   ]
  },
  {
   "cell_type": "markdown",
   "metadata": {},
   "source": [
    "## Create Vector Tileset\n",
    "To create the vector tileset, we use the comand line tool [tippecanoe](https://github.com/felt/tippecanoe?tab=readme-ov-file), which was initially created by Mapbox and now maintained as open source project."
   ]
  },
  {
   "cell_type": "code",
   "execution_count": 48,
   "metadata": {},
   "outputs": [
    {
     "name": "stdout",
     "output_type": "stream",
     "text": [
      "For layer 0, using name \"swiss_zip\"\n",
      "4073 features, 11166412 bytes of geometry and attributes, 19170 bytes of string pool, 0 bytes of vertices, 0 bytes of nodes\n",
      "  99.9%  15/17090/11488  \n",
      "  100.0%  15/17254/11452  \r"
     ]
    }
   ],
   "source": [
    "!tippecanoe \\\n",
    "    -z15 \\\n",
    "    -o data/swiss_zip.pmtiles \\\n",
    "    --coalesce-densest-as-needed \\\n",
    "    --extend-zooms-if-still-dropping \\\n",
    "    --detect-shared-borders \\\n",
    "    data/swiss_zip.geojson"
   ]
  },
  {
   "cell_type": "markdown",
   "metadata": {},
   "source": [
    "Above cell could be written something like this:\n",
    "```\n",
    "!ogr2ogr \\\n",
    "  -f GeoJSON \\\n",
    "  -t_srs EPSG:4326 \\\n",
    "  ./data/swiss_zip.geojson \\\n",
    "  ./data/AMTOVZ_SHP_LV95/AMTOVZ_ZIP.shp\n",
    "```\n",
    "\n",
    "For below cell there is no Python package:"
   ]
  },
  {
   "cell_type": "markdown",
   "metadata": {},
   "source": [
    "Above cell could be rewriten something like this:\n",
    "\n",
    "```\n",
    "!curl -L -o ./data/temp.zip \\\n",
    "    https://data.geo.admin.ch/ch.swisstopo-vd.ortschaftenverzeichnis_plz/ortschaftenverzeichnis_plz/\n",
    "    ortschaftenverzeichnis_plz_2056.shp.zip\n",
    "!unzip ./data/temp.zip -d ./data/\n",
    "```"
   ]
  },
  {
   "cell_type": "markdown",
   "metadata": {},
   "source": []
  }
 ],
 "metadata": {
  "kernelspec": {
   "display_name": "geo_env_forge_9",
   "language": "python",
   "name": "python3"
  },
  "language_info": {
   "codemirror_mode": {
    "name": "ipython",
    "version": 3
   },
   "file_extension": ".py",
   "mimetype": "text/x-python",
   "name": "python",
   "nbconvert_exporter": "python",
   "pygments_lexer": "ipython3",
   "version": "3.9.7"
  }
 },
 "nbformat": 4,
 "nbformat_minor": 2
}
