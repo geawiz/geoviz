{
 "cells": [
  {
   "cell_type": "code",
   "execution_count": 1,
   "metadata": {},
   "outputs": [],
   "source": [
    "import geopandas as gpd\n",
    "import requests\n",
    "import os\n",
    "import zipfile\n",
    "import tempfile"
   ]
  },
  {
   "cell_type": "markdown",
   "metadata": {},
   "source": [
    "## Download Vector Data\n",
    "To illustrate the visualization of vector data, we download [4-digit postcodes](https://data.geo.admin.ch/ch.swisstopo-vd.ortschaftenverzeichnis_plz/ortschaftenverzeichnis_plz/ortschaftenverzeichnis_plz_2056.shp.zip) from Switzerland and store them as ESRI Shapefile in the local directory `./data/`.\n",
    "\n",
    "More information about the data can be found on the [homepage](https://www.swisstopo.admin.ch/en/official-directory-of-towns-and-cities) of Federal Office of Topography swisstopo.\n",
    "\n"
   ]
  },
  {
   "cell_type": "code",
   "execution_count": 3,
   "metadata": {},
   "outputs": [],
   "source": [
    "# Download the ZIP file from the URL\n",
    "url = \"https://data.geo.admin.ch/ch.swisstopo-vd.ortschaftenverzeichnis_plz/ortschaftenverzeichnis_plz/ortschaftenverzeichnis_plz_2056.shp.zip\"\n",
    "data_dir = \"./data/\"\n",
    "\n",
    "os.makedirs(data_dir, exist_ok=True)\n",
    "\n",
    "with tempfile.TemporaryDirectory() as tmpdirname:\n",
    "    # Define the path for the temporary ZIP file\n",
    "    temp_zip_path = os.path.join(tmpdirname, \"temp.zip\")\n",
    "\n",
    "    # Download the ZIP file and write to the temporary file\n",
    "    with requests.get(url, stream=True) as response:\n",
    "        response.raise_for_status()  # Raise an error for bad status codes\n",
    "        with open(temp_zip_path, \"wb\") as f:\n",
    "            f.write(response.content)\n",
    "            \n",
    "    # Extract the ZIP file to the specified directory\n",
    "    with zipfile.ZipFile(temp_zip_path, 'r') as zip_ref:\n",
    "        zip_ref.extractall(data_dir)"
   ]
  },
  {
   "cell_type": "markdown",
   "metadata": {},
   "source": [
    "## Data Preparation\n",
    "We modify the data using [geopandas](https://geopandas.org/en/stable/). First, we select the required columns (ZIP4, geometry). Then, we reproject the data from the local Swiss coordinate system [LV95](https://en.wikipedia.org/wiki/Swiss_coordinate_system) to the [World Geodetic System 84](https://en.wikipedia.org/wiki/World_Geodetic_System#WGS84) and store it as [GeoJson](https://en.wikipedia.org/wiki/GeoJSON). This format is chosen to later facilitate the creation of vector tiles."
   ]
  },
  {
   "cell_type": "code",
   "execution_count": 2,
   "metadata": {},
   "outputs": [],
   "source": [
    "gdf_plz = gpd.read_file(\"./data/AMTOVZ_SHP_LV95/AMTOVZ_ZIP.shp\")\n",
    "gdf_plz = gdf_plz[[\"ZIP4\", \"geometry\"]].to_crs(\"EPSG:4326\")\n",
    "gdf_plz.to_file(\"data/swiss_zip.geojson\", driver=\"GeoJSON\") "
   ]
  },
  {
   "cell_type": "markdown",
   "metadata": {},
   "source": [
    "## Create Vector Tileset\n",
    "To create the vector tileset, we use the command line tool [tippecanoe](https://github.com/felt/tippecanoe?tab=readme-ov-file), which was initially created by Mapbox and now maintained as open source project. Briefly explaining the settings:\n",
    "- `-o data/swiss_zip.pmtiles`output path of the pmtiles file. `tippecanoe` also supports other vector tile output formats like mbtiles. Find more details [here](https://github.com/felt/tippecanoe/blob/main/README.md#output-tileset).\n",
    "- `--coalesce-densest-as-needed` Dynamically combine the smallest features from each zoom level into other nearby features to keep large tiles under the 500Kb size limit. Find more details [here](https://github.com/felt/tippecanoe/blob/main/README.md#dropping-a-fraction-of-features-to-keep-under-tile-size-limits).\n",
    "- `-z15` sets the max zoom level for which tiles are created. `-zg` would guess the max zoom level. Find more details [here](https://github.com/felt/tippecanoe/blob/main/README.md#zoom-levels).\n",
    "- `--extend-zooms-if-still-dropping` Increase the max zoom if features are still being dropped at that zoom level. Find more details [here](https://github.com/felt/tippecanoe/blob/main/README.md#zoom-levels).\n",
    "- `--no-simplification-of-shared-nodes`. Shared nodes between e.g. polygons will not be simplified. Find more details [here](--no-simplification-of-shared-nodes).\n",
    "- `data/swiss_zip.geojson` input path. `tippecanoe` supports `.geojson`,`.json`, `.fgb` and `.csv` input files. Find more details [here](https://github.com/felt/tippecanoe/blob/main/README.md#input-files-and-layer-names)."
   ]
  },
  {
   "cell_type": "code",
   "execution_count": null,
   "metadata": {},
   "outputs": [],
   "source": [
    "!tippecanoe \\\n",
    "    -o data/swiss_zip.pmtiles \\\n",
    "    -z15 \\\n",
    "    --coalesce-densest-as-needed \\\n",
    "    --extend-zooms-if-still-dropping \\\n",
    "    --no-simplification-of-shared-nodes \\\n",
    "    data/swiss_zip.geojson"
   ]
  }
 ],
 "metadata": {
  "kernelspec": {
   "display_name": "geoviz",
   "language": "python",
   "name": "python3"
  },
  "language_info": {
   "codemirror_mode": {
    "name": "ipython",
    "version": 3
   },
   "file_extension": ".py",
   "mimetype": "text/x-python",
   "name": "python",
   "nbconvert_exporter": "python",
   "pygments_lexer": "ipython3",
   "version": "3.9.7"
  }
 },
 "nbformat": 4,
 "nbformat_minor": 2
}
